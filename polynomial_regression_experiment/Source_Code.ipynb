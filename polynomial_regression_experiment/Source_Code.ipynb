{
 "cells": [
  {
   "cell_type": "markdown",
   "id": "c1323907-a935-43e0-a920-2681f9975a54",
   "metadata": {},
   "source": [
    "### Import statements\n"
   ]
  },
  {
   "cell_type": "code",
   "execution_count": 1,
   "id": "f476afa7-7dc2-4e4c-b90c-7a6cb47bcb3a",
   "metadata": {},
   "outputs": [],
   "source": [
    "import numpy as np\n",
    "import pandas as pd\n",
    "import math as mt\n",
    "from sklearn.model_selection import train_test_split\n",
    "from sklearn.preprocessing import PolynomialFeatures\n",
    "from sklearn.linear_model import LinearRegression\n",
    "from sklearn.metrics import mean_squared_error"
   ]
  },
  {
   "cell_type": "markdown",
   "id": "81ed6765-b012-4045-8ffa-4ee4416bec35",
   "metadata": {},
   "source": [
    "### Function"
   ]
  },
  {
   "cell_type": "code",
   "execution_count": 2,
   "id": "5b88daeb-bda7-4d2e-bed7-a66ca4c2732c",
   "metadata": {},
   "outputs": [],
   "source": [
    "def generate_n_samples(n):\n",
    "    np.random.seed(1234)\n",
    "    spvar_x = np.random.uniform(-3,3,n)\n",
    "    eps = np.random.uniform(0,1,n)\n",
    "    res_y = 8 * np.sin(spvar_x) + eps\n",
    "    df = pd.DataFrame({'X':spvar_x,'Y':res_y}) \n",
    "    #print(df)\n",
    "    return df\n",
    "\n"
   ]
  },
  {
   "cell_type": "code",
   "execution_count": 3,
   "id": "e0c399b4-20c6-490c-89df-55da78f4943e",
   "metadata": {},
   "outputs": [],
   "source": [
    "def model_training(train_s,test_s,deg):\n",
    "    training_sample = generate_n_samples(train_s)\n",
    "    #print(training_sample)\n",
    "    x_train = training_sample[['X']]\n",
    "    y_train = training_sample[['Y']]\n",
    "\n",
    "    testing_sample = generate_n_samples(test_s)\n",
    "    x_test = testing_sample[['X']]\n",
    "    y_test = testing_sample[['Y']]\n",
    "\n",
    "    poly_feat = PolynomialFeatures(degree=deg)\n",
    "    X_train_pf = poly_feat.fit_transform(x_train)\n",
    "    X_test_pf = poly_feat.transform(x_test)\n",
    "\n",
    "    model = LinearRegression()\n",
    "    model.fit(X_train_pf,y_train)\n",
    "\n",
    "    y_pred = model.predict(X_test_pf)\n",
    "    MSE = mean_squared_error(y_test,y_pred)\n",
    "\n",
    "    return MSE"
   ]
  },
  {
   "cell_type": "code",
   "execution_count": null,
   "id": "d8a7a2f0-5f8b-4893-b37a-bfe725ef0469",
   "metadata": {},
   "outputs": [],
   "source": []
  },
  {
   "cell_type": "markdown",
   "id": "5bd440d0-ffdd-4223-a1e2-ab17b05d63bd",
   "metadata": {},
   "source": [
    "### Calling the functions"
   ]
  },
  {
   "cell_type": "code",
   "execution_count": 4,
   "id": "e0de7b89-6f99-411b-a1b6-a5af09144699",
   "metadata": {},
   "outputs": [],
   "source": [
    "mse_degree_3_tr50_te_10000 = model_training(50, 10000, 3)\n",
    "mse_degree_15_tr50_te_10000 = model_training(50, 10000, 15)\n",
    "\n"
   ]
  },
  {
   "cell_type": "code",
   "execution_count": 5,
   "id": "e662da23-8155-4f88-b9cc-229163c2584e",
   "metadata": {},
   "outputs": [],
   "source": [
    "mse_degree_3_tr10000_te_10000 = model_training(10000, 10000, 3)\n",
    "mse_degree_15_tr10000_te_10000 = model_training(10000, 10000, 15)\n"
   ]
  },
  {
   "cell_type": "code",
   "execution_count": 6,
   "id": "203c1f85-4b6d-4b8e-b6c8-db6b205685dc",
   "metadata": {},
   "outputs": [
    {
     "name": "stdout",
     "output_type": "stream",
     "text": [
      "MSE for Degree 3 with training set of size 50 and testing set of size 10000: 0.3157839420145649\n",
      "MSE for Degree 15 with training set of size 50 and testing set of size 10000: 3.2623437804238873\n",
      "MSE for Degree 3 with training set of size 10000 and testing set of size 10000: 0.27073591784351525\n",
      "MSE for Degree 15 with training set of size 10000 and testing set of size 10000: 0.08413596045618944\n"
     ]
    }
   ],
   "source": [
    "print(\"MSE for Degree 3 with training set of size 50 and testing set of size 10000:\", mse_degree_3_tr50_te_10000)\n",
    "print(\"MSE for Degree 15 with training set of size 50 and testing set of size 10000:\", mse_degree_15_tr50_te_10000)\n",
    "print(\"MSE for Degree 3 with training set of size 10000 and testing set of size 10000:\", mse_degree_3_tr10000_te_10000)\n",
    "print(\"MSE for Degree 15 with training set of size 10000 and testing set of size 10000:\", mse_degree_15_tr10000_te_10000)"
   ]
  },
  {
   "cell_type": "code",
   "execution_count": null,
   "id": "98104f5b-cb40-40db-af8d-e6020bfbf390",
   "metadata": {},
   "outputs": [],
   "source": []
  },
  {
   "cell_type": "markdown",
   "id": "e209f654-59cd-48c0-a4a0-3eee3007e863",
   "metadata": {},
   "source": [
    "## Best prediction rule"
   ]
  },
  {
   "cell_type": "raw",
   "id": "97bc904f-c327-4835-a7ea-d7982588dd72",
   "metadata": {},
   "source": [
    "In our case we know the relation between the predictor variable and outcome variable "
   ]
  },
  {
   "cell_type": "raw",
   "id": "106b88d6-5785-42f7-b90f-f4a789695d05",
   "metadata": {},
   "source": [
    "Hence in our case the best possible prediction rule will be\n",
    "     f(x)=8sin(x)"
   ]
  },
  {
   "cell_type": "markdown",
   "id": "e4d80918-b4c3-4d6d-ba92-06555264f6c0",
   "metadata": {},
   "source": [
    "### Obtaining test MSE for the best prediction rule"
   ]
  },
  {
   "cell_type": "code",
   "execution_count": 7,
   "id": "7e1e0921-11fa-4763-b0c2-01af2dbab018",
   "metadata": {},
   "outputs": [],
   "source": [
    "test_data_for_best_MSE = generate_n_samples(10000)\n",
    "X_test = test_data_for_best_MSE[['X']]\n",
    "y_true = test_data_for_best_MSE[['Y']]"
   ]
  },
  {
   "cell_type": "code",
   "execution_count": 8,
   "id": "6f1515aa-70e6-4f64-a8a3-f5b5b94c78fb",
   "metadata": {},
   "outputs": [],
   "source": [
    "y_pred_best_rule = 8 * np.sin(X_test['X'])"
   ]
  },
  {
   "cell_type": "code",
   "execution_count": 9,
   "id": "8fb03d8b-7e61-4cdc-a2f9-c80f33a7f158",
   "metadata": {},
   "outputs": [
    {
     "name": "stdout",
     "output_type": "stream",
     "text": [
      "MSE for the best prediction rule: 0.3348642696474157\n"
     ]
    }
   ],
   "source": [
    "mse_best_rule = mean_squared_error(y_true, y_pred_best_rule)\n",
    "\n",
    "print(\"MSE for the best prediction rule:\", mse_best_rule)"
   ]
  },
  {
   "cell_type": "code",
   "execution_count": null,
   "id": "c6b059e9-9046-4ac8-8812-f5d666318767",
   "metadata": {},
   "outputs": [],
   "source": []
  },
  {
   "cell_type": "markdown",
   "id": "0fe7c0dc-44d2-4848-a145-afd964602f67",
   "metadata": {},
   "source": [
    "## BIAS and VARIANCE of the results"
   ]
  },
  {
   "cell_type": "code",
   "execution_count": 10,
   "id": "86f00e8f-f338-46bb-87b9-aa3e9558acfd",
   "metadata": {},
   "outputs": [
    {
     "name": "stdout",
     "output_type": "stream",
     "text": [
      "MSE for Degree 3 with training set of size 50 and testing set of size 10000: 0.3157839420145649\n",
      "MSE for Degree 15 with training set of size 50 and testing set of size 10000: 3.2623437804238873\n",
      "MSE for Degree 3 with training set of size 10000 and testing set of size 10000: 0.27073591784351525\n",
      "MSE for Degree 15 with training set of size 10000 and testing set of size 10000: 0.08413596045618944\n"
     ]
    }
   ],
   "source": [
    "print(\"MSE for Degree 3 with training set of size 50 and testing set of size 10000:\", mse_degree_3_tr50_te_10000)\n",
    "print(\"MSE for Degree 15 with training set of size 50 and testing set of size 10000:\", mse_degree_15_tr50_te_10000)\n",
    "print(\"MSE for Degree 3 with training set of size 10000 and testing set of size 10000:\", mse_degree_3_tr10000_te_10000)\n",
    "print(\"MSE for Degree 15 with training set of size 10000 and testing set of size 10000:\", mse_degree_15_tr10000_te_10000)"
   ]
  },
  {
   "cell_type": "code",
   "execution_count": null,
   "id": "0f6d29c4-0a90-4309-be63-bd66452b42e4",
   "metadata": {},
   "outputs": [],
   "source": []
  },
  {
   "cell_type": "raw",
   "id": "b52bc186-b977-4191-8f51-6ce4a5dcf2a4",
   "metadata": {},
   "source": [
    "For small training set:- the models with degree 15 are likely to have higher variance due to overfitting, which can result in a higher MSE compared to degree 3 models. The small training set size limits the ability of complex models to generalize well. The high-degree models may fit the training data well (low bias) but could suffer from high variance, leading to a higher MSE on the test set.\n",
    "\n",
    "For large training set:- the degree 3 model might have higher bias, as it may not capture the underlying complexity well. The degree 15 model could have lower bias but potentially higher variance, leading to a trade-off. With a larger training set, the degree 15 model might be able to leverage the additional data to reduce variance and provide better predictions, resulting in a lower MSE compared to the degree 3 model."
   ]
  },
  {
   "cell_type": "code",
   "execution_count": null,
   "id": "d99bc598-4091-44bd-9145-4151e0df4df8",
   "metadata": {},
   "outputs": [],
   "source": []
  },
  {
   "cell_type": "code",
   "execution_count": null,
   "id": "94c0a232-5858-4c53-93aa-a948114cf8ac",
   "metadata": {},
   "outputs": [],
   "source": []
  },
  {
   "cell_type": "code",
   "execution_count": null,
   "id": "f11eae79-c7aa-43fa-b450-ef7e82432bd9",
   "metadata": {},
   "outputs": [],
   "source": []
  },
  {
   "cell_type": "code",
   "execution_count": null,
   "id": "439dcf76-e5ce-434f-948c-ac4fd0e259df",
   "metadata": {},
   "outputs": [],
   "source": []
  },
  {
   "cell_type": "code",
   "execution_count": null,
   "id": "952a0152-8b9b-40ea-bcfb-cc5ffce0f89f",
   "metadata": {},
   "outputs": [],
   "source": []
  },
  {
   "cell_type": "code",
   "execution_count": null,
   "id": "c53edb88-21cf-451c-95e2-bba92b3fe9b7",
   "metadata": {},
   "outputs": [],
   "source": []
  },
  {
   "cell_type": "code",
   "execution_count": null,
   "id": "144625dc-f598-4a27-8f69-2998110e8415",
   "metadata": {},
   "outputs": [],
   "source": []
  },
  {
   "cell_type": "code",
   "execution_count": null,
   "id": "47f9dcea-1092-4f39-aebb-5a8424f7b7eb",
   "metadata": {},
   "outputs": [],
   "source": []
  },
  {
   "cell_type": "code",
   "execution_count": null,
   "id": "6fd16613-800a-4662-a485-1e2a67a1c2da",
   "metadata": {},
   "outputs": [],
   "source": []
  },
  {
   "cell_type": "code",
   "execution_count": null,
   "id": "3f1e8ea0-f38e-44a3-8641-b6035473e0e3",
   "metadata": {},
   "outputs": [],
   "source": []
  }
 ],
 "metadata": {
  "kernelspec": {
   "display_name": "Python 3 (ipykernel)",
   "language": "python",
   "name": "python3"
  },
  "language_info": {
   "codemirror_mode": {
    "name": "ipython",
    "version": 3
   },
   "file_extension": ".py",
   "mimetype": "text/x-python",
   "name": "python",
   "nbconvert_exporter": "python",
   "pygments_lexer": "ipython3",
   "version": "3.11.2"
  }
 },
 "nbformat": 4,
 "nbformat_minor": 5
}
