{
  "nbformat": 4,
  "nbformat_minor": 0,
  "metadata": {
    "colab": {
      "provenance": []
    },
    "kernelspec": {
      "name": "ir",
      "display_name": "R"
    },
    "language_info": {
      "name": "R"
    }
  },
  "cells": [
    {
      "cell_type": "code",
      "source": [
        "set.seed(3938425)"
      ],
      "metadata": {
        "id": "co21AoSxVSyr"
      },
      "execution_count": 66,
      "outputs": []
    },
    {
      "cell_type": "code",
      "source": [
        "install.packages(\"IRdisplay\")\n",
        "install.packages(\"htmlwidgets\")\n",
        "install.packages(\"ggplot2\")"
      ],
      "metadata": {
        "colab": {
          "base_uri": "https://localhost:8080/"
        },
        "id": "sU7voU3qDxpD",
        "outputId": "56c6f492-ff6d-404f-d3ff-3e71585e15eb"
      },
      "execution_count": 67,
      "outputs": [
        {
          "output_type": "stream",
          "name": "stderr",
          "text": [
            "Installing package into ‘/usr/local/lib/R/site-library’\n",
            "(as ‘lib’ is unspecified)\n",
            "\n",
            "Installing package into ‘/usr/local/lib/R/site-library’\n",
            "(as ‘lib’ is unspecified)\n",
            "\n",
            "Installing package into ‘/usr/local/lib/R/site-library’\n",
            "(as ‘lib’ is unspecified)\n",
            "\n"
          ]
        }
      ]
    },
    {
      "cell_type": "code",
      "source": [
        "library(IRdisplay)\n",
        "library(htmlwidgets)\n",
        "library(ggplot2)\n"
      ],
      "metadata": {
        "id": "S6JMIPqfEZv-"
      },
      "execution_count": 68,
      "outputs": []
    },
    {
      "cell_type": "code",
      "source": [
        "library(mgcv)"
      ],
      "metadata": {
        "id": "VMkCO7nIlkkF"
      },
      "execution_count": 69,
      "outputs": []
    },
    {
      "cell_type": "code",
      "source": [
        "sample.data = readRDS(\"bike_dat.Rdata\")\n"
      ],
      "metadata": {
        "id": "RtTR2Og3kfFs"
      },
      "execution_count": 70,
      "outputs": []
    },
    {
      "cell_type": "code",
      "source": [
        "train_indices <- sample(nrow(sample.data), 200)"
      ],
      "metadata": {
        "id": "Orq9C2kAjyOc"
      },
      "execution_count": 71,
      "outputs": []
    },
    {
      "cell_type": "code",
      "source": [
        "train_data <- sample.data[-train_indices, ]\n",
        "test_data <- sample.data[train_indices, ]"
      ],
      "metadata": {
        "id": "tv0Z_kcKjyQ0"
      },
      "execution_count": 72,
      "outputs": []
    },
    {
      "cell_type": "code",
      "source": [
        "# Fit a GAM model\n",
        "gam_model <- gam(counts ~ High.Temp + Low.Temp + snow + prec + rain + month + s(Date, bs = \"re\"), data = train_data, method = \"REML\")\n",
        "\n"
      ],
      "metadata": {
        "id": "nKKQvucOjyTd"
      },
      "execution_count": 73,
      "outputs": []
    },
    {
      "cell_type": "code",
      "source": [
        "summary(gam_model)"
      ],
      "metadata": {
        "colab": {
          "base_uri": "https://localhost:8080/",
          "height": 590
        },
        "id": "gi1cBTyZjyV0",
        "outputId": "a8186c1e-8406-4a75-d784-9c167232f1f1"
      },
      "execution_count": 74,
      "outputs": [
        {
          "output_type": "display_data",
          "data": {
            "text/plain": [
              "\n",
              "Family: gaussian \n",
              "Link function: identity \n",
              "\n",
              "Formula:\n",
              "counts ~ High.Temp + Low.Temp + snow + prec + rain + month + \n",
              "    s(Date, bs = \"re\")\n",
              "\n",
              "Parametric coefficients:\n",
              "            Estimate Std. Error t value Pr(>|t|)    \n",
              "(Intercept)   728.44     589.75   1.235  0.21727    \n",
              "High.Temp      70.64      16.31   4.332 1.74e-05 ***\n",
              "Low.Temp      -21.04      19.76  -1.065  0.28744    \n",
              "snowyes     -1441.06    1097.83  -1.313  0.18982    \n",
              "prec        -1312.58     333.99  -3.930 9.52e-05 ***\n",
              "rainyes      -768.85     188.58  -4.077 5.20e-05 ***\n",
              "monthAug      185.37     399.84   0.464  0.64310    \n",
              "monthJul      313.69     401.36   0.782  0.43479    \n",
              "monthJun      936.75     347.18   2.698  0.00718 ** \n",
              "monthMay      306.29     296.11   1.034  0.30139    \n",
              "monthOct      297.15     290.45   1.023  0.30671    \n",
              "monthSep      581.14     358.69   1.620  0.10574    \n",
              "---\n",
              "Signif. codes:  0 ‘***’ 0.001 ‘**’ 0.01 ‘*’ 0.05 ‘.’ 0.1 ‘ ’ 1\n",
              "\n",
              "Approximate significance of smooth terms:\n",
              "          edf Ref.df     F  p-value    \n",
              "s(Date) 66.01    202 0.495 0.000122 ***\n",
              "---\n",
              "Signif. codes:  0 ‘***’ 0.001 ‘**’ 0.01 ‘*’ 0.05 ‘.’ 0.1 ‘ ’ 1\n",
              "\n",
              "R-sq.(adj) =  0.396   Deviance explained = 46.7%\n",
              "-REML = 5691.3  Scale est. = 2.2281e+06  n = 656"
            ]
          },
          "metadata": {}
        }
      ]
    },
    {
      "cell_type": "code",
      "source": [
        "plot(gam_model, select = 1)"
      ],
      "metadata": {
        "colab": {
          "base_uri": "https://localhost:8080/",
          "height": 437
        },
        "id": "Us3_ccfG72RD",
        "outputId": "607012b5-de21-43b1-b0ec-4377bea8ac32"
      },
      "execution_count": 75,
      "outputs": [
        {
          "output_type": "display_data",
          "data": {
            "text/plain": [
              "Plot with title “s(Date,66.01)”"
            ],
            "image/png": "[encoded data removed]"
          },
          "metadata": {
            "image/png": {
              "width": 420,
              "height": 420
            }
          }
        }
      ]
    },
    {
      "cell_type": "code",
      "source": [],
      "metadata": {
        "id": "Bapq0mBo72Ta"
      },
      "execution_count": 76,
      "outputs": []
    },
    {
      "cell_type": "markdown",
      "source": [
        "# **B**"
      ],
      "metadata": {
        "id": "Sevh50B-92ue"
      }
    },
    {
      "cell_type": "markdown",
      "source": [
        "Q) In which month and on which weekday are New York bridges most (least) busy with cyclists?"
      ],
      "metadata": {
        "id": "DJtUZwt_9kxI"
      }
    },
    {
      "cell_type": "markdown",
      "source": [
        "Ans:- From the coefficients, we can observe that August, July, and May have lower coefficients compared to other months, suggesting relatively lower cyclist counts in these months."
      ],
      "metadata": {
        "id": "WhhxWp769qog"
      }
    },
    {
      "cell_type": "code",
      "source": [],
      "metadata": {
        "id": "TankIneQ9jNc"
      },
      "execution_count": 77,
      "outputs": []
    },
    {
      "cell_type": "markdown",
      "source": [
        "Q) Do snow days yield different cyclist counts than dry days? Than rain days?"
      ],
      "metadata": {
        "id": "Ca634lms-lmb"
      }
    },
    {
      "cell_type": "markdown",
      "source": [
        "Ans:- The coefficient for snow represents the effect of snow days on cyclist counts compared to dry days. From output, the coefficient for \"snowyes\" is -1385.41.\n",
        "A negative coefficient suggests that snow days are associated with lower cyclist counts compared to dry days."
      ],
      "metadata": {
        "id": "5Anl4OIG-t3K"
      }
    },
    {
      "cell_type": "markdown",
      "source": [
        "Ans:- The coefficient for rain shows the effect of rain on cyclist counts compared to dry days. In the output, the coefficient for rain is -704.24.\n",
        "A negative coefficient suggests that rain days are associated with lower cyclist counts compared to dry days.\n"
      ],
      "metadata": {
        "id": "S56hU_nm-7GK"
      }
    },
    {
      "cell_type": "code",
      "source": [],
      "metadata": {
        "id": "lJkryiiKjyYM"
      },
      "execution_count": 78,
      "outputs": []
    },
    {
      "cell_type": "markdown",
      "source": [
        "Q) Is the effect of temperature and precipitation significant? Use the output of the summary function under Approximate significance of smooth terms to evaluate this."
      ],
      "metadata": {
        "id": "VrPITRcNBqd0"
      }
    },
    {
      "cell_type": "markdown",
      "source": [
        "Ans:- The p-values associated with High.Temp, Low.Temp, and prec are all very small, indicating that they are statistically significant."
      ],
      "metadata": {
        "id": "n0hZ3TXwB2Bj"
      }
    },
    {
      "cell_type": "code",
      "source": [],
      "metadata": {
        "id": "dWRdNfpq_JAe"
      },
      "execution_count": 79,
      "outputs": []
    },
    {
      "cell_type": "code",
      "source": [],
      "metadata": {
        "id": "hCagg6JWB4ju"
      },
      "execution_count": 80,
      "outputs": []
    },
    {
      "cell_type": "markdown",
      "source": [
        "Q) Describe the effect of temperature and precipitation based on the fitted smoothing spline curves obtained with plot(). Evaluate the strength of non-linearity using the edf values from the output of\n",
        "summary (edf of 1 corresponds to a linear effect, higher values indicate stronger non-linearity).\n"
      ],
      "metadata": {
        "id": "efkIsiyqB5Fz"
      }
    },
    {
      "cell_type": "code",
      "source": [
        "plot(gam_model, terms = c(\"High.Temp\", \"Low.Temp\", \"prec\"))"
      ],
      "metadata": {
        "colab": {
          "base_uri": "https://localhost:8080/",
          "height": 645
        },
        "id": "IU5yAn-I_JIX",
        "outputId": "402a3c93-3c24-4b63-e4ba-bd3a58ce11ef"
      },
      "execution_count": 81,
      "outputs": [
        {
          "output_type": "stream",
          "name": "stderr",
          "text": [
            "Warning message in plot.window(...):\n",
            "“\"terms\" is not a graphical parameter”\n",
            "Warning message in plot.xy(xy, type, ...):\n",
            "“\"terms\" is not a graphical parameter”\n",
            "Warning message in axis(side = side, at = at, labels = labels, ...):\n",
            "“\"terms\" is not a graphical parameter”\n",
            "Warning message in axis(side = side, at = at, labels = labels, ...):\n",
            "“\"terms\" is not a graphical parameter”\n",
            "Warning message in box(...):\n",
            "“\"terms\" is not a graphical parameter”\n",
            "Warning message in title(...):\n",
            "“\"terms\" is not a graphical parameter”\n"
          ]
        },
        {
          "output_type": "display_data",
          "data": {
            "text/plain": [
              "Plot with title “s(Date,66.01)”"
            ],
            "image/png": "[encoded data removed]"
          },
          "metadata": {
            "image/png": {
              "width": 420,
              "height": 420
            }
          }
        }
      ]
    },
    {
      "cell_type": "markdown",
      "source": [
        "Ans:-\n",
        "The edf value for the smooth term s(Date) is 82.8, which is much greater than 1. This suggests a strong non-linear relationship between the date variable and the response variable.\n",
        "---\n",
        "\n"
      ],
      "metadata": {
        "id": "LMap7DTTGVx6"
      }
    },
    {
      "cell_type": "code",
      "source": [],
      "metadata": {
        "id": "BLvT1CDf_JK5"
      },
      "execution_count": 82,
      "outputs": []
    },
    {
      "cell_type": "code",
      "source": [],
      "metadata": {
        "id": "r9dhnJ0u_JM_"
      },
      "execution_count": 83,
      "outputs": []
    },
    {
      "cell_type": "code",
      "source": [],
      "metadata": {
        "id": "hmqex01K_JPg"
      },
      "execution_count": 84,
      "outputs": []
    },
    {
      "cell_type": "markdown",
      "source": [
        "Q) Evaluate the distribution of the random intercept estimated w.r.t. Date from the plot. Are there large\n",
        "differences in counts? Do the counts follow a normal distribution?\n"
      ],
      "metadata": {
        "id": "7MGbb-ToHW0G"
      }
    },
    {
      "cell_type": "markdown",
      "source": [
        "Ans:- The random intercepts vary widely across dates and do not follow a clear pattern, it suggests large differences in counts across dates"
      ],
      "metadata": {
        "id": "C-qC8WpcHTdW"
      }
    },
    {
      "cell_type": "code",
      "source": [],
      "metadata": {
        "id": "MfBMIA-b_JR4"
      },
      "execution_count": 85,
      "outputs": []
    },
    {
      "cell_type": "markdown",
      "source": [
        "Q) Evaluate predictive accuracy (MSE) of the fitted GAM on the test observations."
      ],
      "metadata": {
        "id": "igOGQ5wjJJVE"
      }
    },
    {
      "cell_type": "code",
      "source": [
        "predictions <- predict(gam_model, newdata = test_data, type = \"response\")\n",
        "\n",
        "mse <- mean((test_data$counts - predictions)^2)"
      ],
      "metadata": {
        "id": "gOUevxJj_JUR"
      },
      "execution_count": 86,
      "outputs": []
    },
    {
      "cell_type": "code",
      "source": [
        "mse"
      ],
      "metadata": {
        "colab": {
          "base_uri": "https://localhost:8080/",
          "height": 34
        },
        "id": "kQhVulE5_JaO",
        "outputId": "d54b3248-b1bb-4577-e6ce-8437b5bd2c4a"
      },
      "execution_count": 87,
      "outputs": [
        {
          "output_type": "display_data",
          "data": {
            "text/html": [
              "2439358.99281941"
            ],
            "text/markdown": "2439358.99281941",
            "text/latex": "2439358.99281941",
            "text/plain": [
              "[1] 2439359"
            ]
          },
          "metadata": {}
        }
      ]
    }
  ]
}